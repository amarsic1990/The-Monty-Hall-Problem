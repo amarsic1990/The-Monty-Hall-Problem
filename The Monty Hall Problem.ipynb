{
 "cells": [
  {
   "cell_type": "code",
   "execution_count": 1,
   "metadata": {
    "collapsed": true
   },
   "outputs": [],
   "source": [
    "import numpy as np\n",
    "\n",
    "def simNagrVrata(brSim):\n",
    "    \"\"\"\n",
    "    simulacija vrata iza kojih se nalazi nagrada. \n",
    "    Kao input je potrebno unijeti broj simulacija\n",
    "    \"\"\"\n",
    "    return np.random.randint(0,3, brSim)"
   ]
  },
  {
   "cell_type": "code",
   "execution_count": 2,
   "metadata": {
    "collapsed": true
   },
   "outputs": [],
   "source": [
    "def simPog(brSim):\n",
    "    \"\"\"\n",
    "    funkcija vraca odabrana vrata. Npr. mozemo odlucimo se za strategiju da uvijek biramo vrata 0 ili 1 ili 2.\n",
    "    \"\"\"\n",
    "    return np.zeros(brSim, dtype = int)"
   ]
  },
  {
   "cell_type": "code",
   "execution_count": 3,
   "metadata": {
    "collapsed": true
   },
   "outputs": [],
   "source": [
    "def pogVrata(nagrVr, pogoVr):\n",
    "    \"\"\"\n",
    "    simulacija pokazivanja vrata iza kojih se ne nalazi nagrada.\n",
    "    \"\"\"\n",
    "    return [np.setdiff1d([0,1,2], [nagrVr[i], pogoVr[i]])[0] for i in range(len(nagrVr))]"
   ]
  },
  {
   "cell_type": "code",
   "execution_count": 4,
   "metadata": {
    "collapsed": true
   },
   "outputs": [],
   "source": [
    "def promVr(pogoVr, pogVr):\n",
    "    \"\"\"\n",
    "    strategija mijenjanja inicijalno odabranih vrata nakon što se pokazu vrata koja ne sadrze auto\n",
    "    \"\"\"\n",
    "    return [np.setdiff1d([0,1,2], [pogoVr[i], pogVr[i]])[0] for i in range(len(pogoVr))]"
   ]
  },
  {
   "cell_type": "code",
   "execution_count": 5,
   "metadata": {
    "collapsed": true
   },
   "outputs": [],
   "source": [
    "def postPobj(pogoVr, nagrVr):\n",
    "    \"\"\"\n",
    "    funkcija vraca u koliko posto igara osvajamo auto\n",
    "    \"\"\"\n",
    "    return 100 * (pogoVr == nagrVr).mean()"
   ]
  },
  {
   "cell_type": "code",
   "execution_count": 6,
   "metadata": {
    "collapsed": false
   },
   "outputs": [
    {
     "name": "stdout",
     "output_type": "stream",
     "text": [
      "igru igramo 10000 puta\n",
      "\n",
      "\n",
      "kada ne mijenjamo vrata dobivamo u 33.05 % slucajeva\n",
      "\n",
      "\n",
      "kada  mijenjamo vrata dobivamo u 66.95 % slucajeva\n"
     ]
    }
   ],
   "source": [
    "brSim = 10000\n",
    "print \"igru igramo\", brSim, \"puta\"; print; print\n",
    "tocVrata = simNagrVrata(brSim)\n",
    "pogoci = simPog(brSim)\n",
    "krivaVrata = pogVrata(tocVrata, pogoci)\n",
    "print \"kada ne mijenjamo vrata dobivamo u\", postPobj(pogoci, tocVrata), \"% slucajeva\"; print; print\n",
    "promVrata = promVr(pogoci, krivaVrata)\n",
    "print \"kada  mijenjamo vrata dobivamo u\", postPobj(promVrata, tocVrata), \"% slucajeva\""
   ]
  }
 ],
 "metadata": {
  "kernelspec": {
   "display_name": "Python 2",
   "language": "python",
   "name": "python2"
  },
  "language_info": {
   "codemirror_mode": {
    "name": "ipython",
    "version": 2
   },
   "file_extension": ".py",
   "mimetype": "text/x-python",
   "name": "python",
   "nbconvert_exporter": "python",
   "pygments_lexer": "ipython2",
   "version": "2.7.11"
  }
 },
 "nbformat": 4,
 "nbformat_minor": 0
}
